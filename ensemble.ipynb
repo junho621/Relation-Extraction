{
 "metadata": {
  "language_info": {
   "codemirror_mode": {
    "name": "ipython",
    "version": 3
   },
   "file_extension": ".py",
   "mimetype": "text/x-python",
   "name": "python",
   "nbconvert_exporter": "python",
   "pygments_lexer": "ipython3",
   "version": "3.7.7"
  },
  "orig_nbformat": 2,
  "kernelspec": {
   "name": "python377jvsc74a57bd098b0a9b7b4eaaa670588a142fd0a9b87eaafe866f1db4228be72b4211d12040f",
   "display_name": "Python 3.7.7 64-bit ('base': conda)"
  }
 },
 "nbformat": 4,
 "nbformat_minor": 2,
 "cells": [
  {
   "cell_type": "code",
   "execution_count": 7,
   "metadata": {},
   "outputs": [],
   "source": [
    "## hard voting by counting mode(최빈값)\n",
    "import pandas as pd\n",
    "import numpy as np\n",
    "import os\n",
    "\n",
    "file_lists = os.listdir('/opt/ml/my_code/ensemble')\n",
    "file_lists = sorted(file_lists, key=lambda x:int(x.split('.')[0][1:]))\n",
    "df = pd.read_csv('/opt/ml/my_code/ensemble/' + file_lists[0])\n",
    "column_names = [file_lists[0]]\n",
    "for file in file_lists[1:]:\n",
    "    if file != 'o1.csv':\n",
    "        column_names.append(file)\n",
    "        tmp = pd.read_csv('/opt/ml/my_code/ensemble/' + file)\n",
    "        df = pd.concat([df, tmp], axis = 1)\n",
    "df.columns = column_names\n",
    "df['pred'] = 0\n",
    "for n in range(1000):\n",
    "    df['pred'][n]=max(df.loc[n][0:-1].mode()) \n",
    "\n",
    "final_df = pd.DataFrame(df['pred'])\n",
    "final_df.to_csv(f'/opt/ml/my_code/results/mode_ensemble.csv', index=False)"
   ]
  },
  {
   "cell_type": "code",
   "execution_count": 7,
   "metadata": {},
   "outputs": [
    {
     "output_type": "execute_result",
     "data": {
      "text/plain": [
       "     o816.csv  o793.csv  o790.csv  o786.csv  o782.csv  o781.csv  o779.csv  \\\n",
       "0           0         0         0         0         5         5         0   \n",
       "1          10        10        10        10        10        10        10   \n",
       "2           8         8         8         8         8         1         8   \n",
       "3           0        17         0         0         0         0         0   \n",
       "4           0         0         0         0         0         0         0   \n",
       "..        ...       ...       ...       ...       ...       ...       ...   \n",
       "995         0         0         0         0         0         0         0   \n",
       "996        10        10        10        10        10        10        10   \n",
       "997        10        10        10        10        10        10        10   \n",
       "998         0         0         0         0         0         0         0   \n",
       "999         0         0         0         4         0         0         0   \n",
       "\n",
       "     o775.csv  o774.csv  pred  \n",
       "0           0         0     0  \n",
       "1          10        10    10  \n",
       "2           8         8     8  \n",
       "3          17        17     0  \n",
       "4           0         0     0  \n",
       "..        ...       ...   ...  \n",
       "995         0         0     0  \n",
       "996        10        10    10  \n",
       "997        10        10    10  \n",
       "998         0         0     0  \n",
       "999         0         0     0  \n",
       "\n",
       "[1000 rows x 10 columns]"
      ],
      "text/html": "<div>\n<style scoped>\n    .dataframe tbody tr th:only-of-type {\n        vertical-align: middle;\n    }\n\n    .dataframe tbody tr th {\n        vertical-align: top;\n    }\n\n    .dataframe thead th {\n        text-align: right;\n    }\n</style>\n<table border=\"1\" class=\"dataframe\">\n  <thead>\n    <tr style=\"text-align: right;\">\n      <th></th>\n      <th>o816.csv</th>\n      <th>o793.csv</th>\n      <th>o790.csv</th>\n      <th>o786.csv</th>\n      <th>o782.csv</th>\n      <th>o781.csv</th>\n      <th>o779.csv</th>\n      <th>o775.csv</th>\n      <th>o774.csv</th>\n      <th>pred</th>\n    </tr>\n  </thead>\n  <tbody>\n    <tr>\n      <th>0</th>\n      <td>0</td>\n      <td>0</td>\n      <td>0</td>\n      <td>0</td>\n      <td>5</td>\n      <td>5</td>\n      <td>0</td>\n      <td>0</td>\n      <td>0</td>\n      <td>0</td>\n    </tr>\n    <tr>\n      <th>1</th>\n      <td>10</td>\n      <td>10</td>\n      <td>10</td>\n      <td>10</td>\n      <td>10</td>\n      <td>10</td>\n      <td>10</td>\n      <td>10</td>\n      <td>10</td>\n      <td>10</td>\n    </tr>\n    <tr>\n      <th>2</th>\n      <td>8</td>\n      <td>8</td>\n      <td>8</td>\n      <td>8</td>\n      <td>8</td>\n      <td>1</td>\n      <td>8</td>\n      <td>8</td>\n      <td>8</td>\n      <td>8</td>\n    </tr>\n    <tr>\n      <th>3</th>\n      <td>0</td>\n      <td>17</td>\n      <td>0</td>\n      <td>0</td>\n      <td>0</td>\n      <td>0</td>\n      <td>0</td>\n      <td>17</td>\n      <td>17</td>\n      <td>0</td>\n    </tr>\n    <tr>\n      <th>4</th>\n      <td>0</td>\n      <td>0</td>\n      <td>0</td>\n      <td>0</td>\n      <td>0</td>\n      <td>0</td>\n      <td>0</td>\n      <td>0</td>\n      <td>0</td>\n      <td>0</td>\n    </tr>\n    <tr>\n      <th>...</th>\n      <td>...</td>\n      <td>...</td>\n      <td>...</td>\n      <td>...</td>\n      <td>...</td>\n      <td>...</td>\n      <td>...</td>\n      <td>...</td>\n      <td>...</td>\n      <td>...</td>\n    </tr>\n    <tr>\n      <th>995</th>\n      <td>0</td>\n      <td>0</td>\n      <td>0</td>\n      <td>0</td>\n      <td>0</td>\n      <td>0</td>\n      <td>0</td>\n      <td>0</td>\n      <td>0</td>\n      <td>0</td>\n    </tr>\n    <tr>\n      <th>996</th>\n      <td>10</td>\n      <td>10</td>\n      <td>10</td>\n      <td>10</td>\n      <td>10</td>\n      <td>10</td>\n      <td>10</td>\n      <td>10</td>\n      <td>10</td>\n      <td>10</td>\n    </tr>\n    <tr>\n      <th>997</th>\n      <td>10</td>\n      <td>10</td>\n      <td>10</td>\n      <td>10</td>\n      <td>10</td>\n      <td>10</td>\n      <td>10</td>\n      <td>10</td>\n      <td>10</td>\n      <td>10</td>\n    </tr>\n    <tr>\n      <th>998</th>\n      <td>0</td>\n      <td>0</td>\n      <td>0</td>\n      <td>0</td>\n      <td>0</td>\n      <td>0</td>\n      <td>0</td>\n      <td>0</td>\n      <td>0</td>\n      <td>0</td>\n    </tr>\n    <tr>\n      <th>999</th>\n      <td>0</td>\n      <td>0</td>\n      <td>0</td>\n      <td>4</td>\n      <td>0</td>\n      <td>0</td>\n      <td>0</td>\n      <td>0</td>\n      <td>0</td>\n      <td>0</td>\n    </tr>\n  </tbody>\n</table>\n<p>1000 rows × 10 columns</p>\n</div>"
     },
     "metadata": {},
     "execution_count": 7
    }
   ],
   "source": [
    "## hard voting by granting weight based on their score \n",
    "import pandas as pd\n",
    "import numpy as np\n",
    "import os\n",
    "\n",
    "file_lists = os.listdir('/opt/ml/my_code/ensemble')\n",
    "file_lists = sorted(file_lists, key=lambda x:int(x.split('.')[0][1:]), reverse=True)\n",
    "df = pd.read_csv('/opt/ml/my_code/ensemble/' + file_lists[0])\n",
    "column_names = [file_lists[0]]\n",
    "for file in file_lists[1:]:\n",
    "    column_names.append(file)\n",
    "    tmp = pd.read_csv('/opt/ml/my_code/ensemble/' + file)\n",
    "    df = pd.concat([df, tmp], axis = 1)\n",
    "df.columns = column_names\n",
    "df['pred'] = 0\n",
    "weight = [float('.' + i.split('.')[0][1:]) for i in column_names]\n",
    "for n in range(1000):\n",
    "    score = [0 for i in range(42)]\n",
    "    tmp = list(df.loc[n][0:-1])\n",
    "    for j in range(len(tmp)):\n",
    "        score[tmp[j]] += weight[j]\n",
    "    idx = score.index(max(score))\n",
    "    df['pred'][n] = idx\n",
    "\n",
    "final_df = pd.DataFrame(df['pred'])\n",
    "final_df.to_csv(f'/opt/ml/my_code/results/weighted_ensemble.csv', index=False)"
   ]
  },
  {
   "cell_type": "code",
   "execution_count": 5,
   "metadata": {},
   "outputs": [
    {
     "output_type": "execute_result",
     "data": {
      "text/plain": [
       "0.8891"
      ]
     },
     "metadata": {},
     "execution_count": 5
    }
   ],
   "source": [
    "a  = '.88910'\n",
    "a = float(a)\n",
    "a"
   ]
  },
  {
   "cell_type": "code",
   "execution_count": null,
   "metadata": {},
   "outputs": [],
   "source": []
  }
 ]
}